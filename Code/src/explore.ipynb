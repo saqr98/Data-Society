{
  "cells": [
    {
      "cell_type": "code",
      "execution_count": 2,
      "metadata": {
        "id": "FasQEPP1Q0IP"
      },
      "outputs": [],
      "source": [
        "import pandas as pd\n",
        "import numpy as np\n",
        "import seaborn as sns\n",
        "import matplotlib.pyplot as plt"
      ]
    },
    {
      "cell_type": "code",
      "execution_count": 14,
      "metadata": {
        "colab": {
          "base_uri": "https://localhost:8080/",
          "height": 391
        },
        "id": "bIw82qhuHWy0",
        "outputId": "b8f39759-3da5-452b-a8f8-cf4c470fdc57"
      },
      "outputs": [],
      "source": [
        "results = pd.read_csv(\"../data/events/all-events-autumn-2023.csv\", dtype={\"EventCode\": 'str',\n",
        "                                                                   \"EventBaseCode\": 'str',})"
      ]
    },
    {
      "cell_type": "code",
      "execution_count": 15,
      "metadata": {},
      "outputs": [
        {
          "data": {
            "text/plain": [
              "GLOBALEVENTID        0.000000e+00\n",
              "SQLDATE              0.000000e+00\n",
              "Actor1Code           0.000000e+00\n",
              "Actor1Name           7.304134e-07\n",
              "Actor1CountryCode    0.000000e+00\n",
              "Actor1Type1Code      8.152711e-01\n",
              "Actor1Type2Code      9.863118e-01\n",
              "Actor2Code           0.000000e+00\n",
              "Actor2Name           7.304134e-07\n",
              "Actor2CountryCode    0.000000e+00\n",
              "Actor2Type1Code      8.347992e-01\n",
              "Actor2Type1Code_1    8.347992e-01\n",
              "EventCode            0.000000e+00\n",
              "EventBaseCode        0.000000e+00\n",
              "GoldsteinScale       2.434711e-06\n",
              "NumMentions          0.000000e+00\n",
              "AvgTone              0.000000e+00\n",
              "SOURCEURL            1.460827e-06\n",
              "dtype: float64"
            ]
          },
          "execution_count": 15,
          "metadata": {},
          "output_type": "execute_result"
        }
      ],
      "source": [
        "results.isnull().sum()/results.shape[0]"
      ]
    },
    {
      "cell_type": "code",
      "execution_count": 60,
      "metadata": {},
      "outputs": [
        {
          "data": {
            "text/html": [
              "<div>\n",
              "<style scoped>\n",
              "    .dataframe tbody tr th:only-of-type {\n",
              "        vertical-align: middle;\n",
              "    }\n",
              "\n",
              "    .dataframe tbody tr th {\n",
              "        vertical-align: top;\n",
              "    }\n",
              "\n",
              "    .dataframe thead th {\n",
              "        text-align: right;\n",
              "    }\n",
              "</style>\n",
              "<table border=\"1\" class=\"dataframe\">\n",
              "  <thead>\n",
              "    <tr style=\"text-align: right;\">\n",
              "      <th></th>\n",
              "      <th>GLOBALEVENTID</th>\n",
              "      <th>SQLDATE</th>\n",
              "      <th>Actor1Code</th>\n",
              "      <th>Actor1Name</th>\n",
              "      <th>Actor1CountryCode</th>\n",
              "      <th>Actor1Type1Code</th>\n",
              "      <th>Actor1Type2Code</th>\n",
              "      <th>Actor2Code</th>\n",
              "      <th>Actor2Name</th>\n",
              "      <th>Actor2CountryCode</th>\n",
              "      <th>Actor2Type1Code</th>\n",
              "      <th>Actor2Type1Code_1</th>\n",
              "      <th>EventCode</th>\n",
              "      <th>EventBaseCode</th>\n",
              "      <th>GoldsteinScale</th>\n",
              "      <th>NumMentions</th>\n",
              "      <th>AvgTone</th>\n",
              "      <th>SOURCEURL</th>\n",
              "    </tr>\n",
              "  </thead>\n",
              "  <tbody>\n",
              "    <tr>\n",
              "      <th>0</th>\n",
              "      <td>1147848066</td>\n",
              "      <td>20231122</td>\n",
              "      <td>CHNGOV</td>\n",
              "      <td>CHINA</td>\n",
              "      <td>CHN</td>\n",
              "      <td>GOV</td>\n",
              "      <td>NaN</td>\n",
              "      <td>USAGOV</td>\n",
              "      <td>JOE BIDEN</td>\n",
              "      <td>USA</td>\n",
              "      <td>GOV</td>\n",
              "      <td>GOV</td>\n",
              "      <td>044</td>\n",
              "      <td>044</td>\n",
              "      <td>2.5</td>\n",
              "      <td>2</td>\n",
              "      <td>-1.412429</td>\n",
              "      <td>https://www.firstpost.com/world/china-determin...</td>\n",
              "    </tr>\n",
              "    <tr>\n",
              "      <th>1</th>\n",
              "      <td>1147848076</td>\n",
              "      <td>20231122</td>\n",
              "      <td>USAGOV</td>\n",
              "      <td>JOE BIDEN</td>\n",
              "      <td>USA</td>\n",
              "      <td>GOV</td>\n",
              "      <td>NaN</td>\n",
              "      <td>CHN</td>\n",
              "      <td>CHINESE</td>\n",
              "      <td>CHN</td>\n",
              "      <td>NaN</td>\n",
              "      <td>NaN</td>\n",
              "      <td>044</td>\n",
              "      <td>044</td>\n",
              "      <td>2.5</td>\n",
              "      <td>2</td>\n",
              "      <td>-1.412429</td>\n",
              "      <td>https://www.firstpost.com/world/china-determin...</td>\n",
              "    </tr>\n",
              "    <tr>\n",
              "      <th>2</th>\n",
              "      <td>1143689750</td>\n",
              "      <td>20231130</td>\n",
              "      <td>GRDGOVMED</td>\n",
              "      <td>BRIAN MC</td>\n",
              "      <td>GRD</td>\n",
              "      <td>GOV</td>\n",
              "      <td>MED</td>\n",
              "      <td>IRL</td>\n",
              "      <td>IRELAND</td>\n",
              "      <td>IRL</td>\n",
              "      <td>NaN</td>\n",
              "      <td>NaN</td>\n",
              "      <td>1822</td>\n",
              "      <td>182</td>\n",
              "      <td>-9.0</td>\n",
              "      <td>1</td>\n",
              "      <td>-10.288809</td>\n",
              "      <td>https://www.irishtimes.com/crime-law/courts/20...</td>\n",
              "    </tr>\n",
              "    <tr>\n",
              "      <th>3</th>\n",
              "      <td>1147667008</td>\n",
              "      <td>20231121</td>\n",
              "      <td>QAT</td>\n",
              "      <td>QATAR</td>\n",
              "      <td>QAT</td>\n",
              "      <td>NaN</td>\n",
              "      <td>NaN</td>\n",
              "      <td>ISR</td>\n",
              "      <td>ISRAEL</td>\n",
              "      <td>ISR</td>\n",
              "      <td>NaN</td>\n",
              "      <td>NaN</td>\n",
              "      <td>045</td>\n",
              "      <td>045</td>\n",
              "      <td>5.0</td>\n",
              "      <td>1</td>\n",
              "      <td>-0.213220</td>\n",
              "      <td>https://www.thejc.com/news/uk/david-cameron-vi...</td>\n",
              "    </tr>\n",
              "    <tr>\n",
              "      <th>4</th>\n",
              "      <td>1147744830</td>\n",
              "      <td>20231122</td>\n",
              "      <td>USA</td>\n",
              "      <td>WASHINGTON</td>\n",
              "      <td>USA</td>\n",
              "      <td>NaN</td>\n",
              "      <td>NaN</td>\n",
              "      <td>TURGOV</td>\n",
              "      <td>ISTANBUL</td>\n",
              "      <td>TUR</td>\n",
              "      <td>GOV</td>\n",
              "      <td>GOV</td>\n",
              "      <td>075</td>\n",
              "      <td>075</td>\n",
              "      <td>7.0</td>\n",
              "      <td>6</td>\n",
              "      <td>-3.016591</td>\n",
              "      <td>https://www.nytimes.com/2023/12/21/us/politics...</td>\n",
              "    </tr>\n",
              "  </tbody>\n",
              "</table>\n",
              "</div>"
            ],
            "text/plain": [
              "   GLOBALEVENTID   SQLDATE Actor1Code  Actor1Name Actor1CountryCode  \\\n",
              "0     1147848066  20231122     CHNGOV       CHINA               CHN   \n",
              "1     1147848076  20231122     USAGOV   JOE BIDEN               USA   \n",
              "2     1143689750  20231130  GRDGOVMED    BRIAN MC               GRD   \n",
              "3     1147667008  20231121        QAT       QATAR               QAT   \n",
              "4     1147744830  20231122        USA  WASHINGTON               USA   \n",
              "\n",
              "  Actor1Type1Code Actor1Type2Code Actor2Code Actor2Name Actor2CountryCode  \\\n",
              "0             GOV             NaN     USAGOV  JOE BIDEN               USA   \n",
              "1             GOV             NaN        CHN    CHINESE               CHN   \n",
              "2             GOV             MED        IRL    IRELAND               IRL   \n",
              "3             NaN             NaN        ISR     ISRAEL               ISR   \n",
              "4             NaN             NaN     TURGOV   ISTANBUL               TUR   \n",
              "\n",
              "  Actor2Type1Code Actor2Type1Code_1 EventCode EventBaseCode  GoldsteinScale  \\\n",
              "0             GOV               GOV       044           044             2.5   \n",
              "1             NaN               NaN       044           044             2.5   \n",
              "2             NaN               NaN      1822           182            -9.0   \n",
              "3             NaN               NaN       045           045             5.0   \n",
              "4             GOV               GOV       075           075             7.0   \n",
              "\n",
              "   NumMentions    AvgTone                                          SOURCEURL  \n",
              "0            2  -1.412429  https://www.firstpost.com/world/china-determin...  \n",
              "1            2  -1.412429  https://www.firstpost.com/world/china-determin...  \n",
              "2            1 -10.288809  https://www.irishtimes.com/crime-law/courts/20...  \n",
              "3            1  -0.213220  https://www.thejc.com/news/uk/david-cameron-vi...  \n",
              "4            6  -3.016591  https://www.nytimes.com/2023/12/21/us/politics...  "
            ]
          },
          "execution_count": 60,
          "metadata": {},
          "output_type": "execute_result"
        }
      ],
      "source": [
        "results.head()"
      ]
    },
    {
      "cell_type": "code",
      "execution_count": 61,
      "metadata": {
        "id": "aroxnGSM-Z_e"
      },
      "outputs": [],
      "source": [
        "def create_pair(x):\n",
        "  return \"-\".join(x[[\"Actor1CountryCode\", \"Actor2CountryCode\"]].sort_values().tolist())"
      ]
    },
    {
      "cell_type": "code",
      "execution_count": 62,
      "metadata": {
        "id": "TrbtG_lTsxkh"
      },
      "outputs": [],
      "source": [
        "results[\"Actors_pair\"] = results[\"Actor1CountryCode\"] + \"-\" + results[\"Actor2CountryCode\"]"
      ]
    },
    {
      "cell_type": "code",
      "execution_count": 63,
      "metadata": {
        "colab": {
          "base_uri": "https://localhost:8080/",
          "height": 391
        },
        "id": "bzU7nGN4NB-z",
        "outputId": "cc269c64-a809-402b-be1c-e89f9e7801dc"
      },
      "outputs": [
        {
          "data": {
            "text/html": [
              "<div>\n",
              "<style scoped>\n",
              "    .dataframe tbody tr th:only-of-type {\n",
              "        vertical-align: middle;\n",
              "    }\n",
              "\n",
              "    .dataframe tbody tr th {\n",
              "        vertical-align: top;\n",
              "    }\n",
              "\n",
              "    .dataframe thead th {\n",
              "        text-align: right;\n",
              "    }\n",
              "</style>\n",
              "<table border=\"1\" class=\"dataframe\">\n",
              "  <thead>\n",
              "    <tr style=\"text-align: right;\">\n",
              "      <th></th>\n",
              "      <th>GLOBALEVENTID</th>\n",
              "      <th>SQLDATE</th>\n",
              "      <th>Actor1Code</th>\n",
              "      <th>Actor1Name</th>\n",
              "      <th>Actor1CountryCode</th>\n",
              "      <th>Actor1Type1Code</th>\n",
              "      <th>Actor1Type2Code</th>\n",
              "      <th>Actor2Code</th>\n",
              "      <th>Actor2Name</th>\n",
              "      <th>Actor2CountryCode</th>\n",
              "      <th>Actor2Type1Code</th>\n",
              "      <th>Actor2Type1Code_1</th>\n",
              "      <th>EventCode</th>\n",
              "      <th>EventBaseCode</th>\n",
              "      <th>GoldsteinScale</th>\n",
              "      <th>NumMentions</th>\n",
              "      <th>AvgTone</th>\n",
              "      <th>SOURCEURL</th>\n",
              "      <th>Actors_pair</th>\n",
              "    </tr>\n",
              "  </thead>\n",
              "  <tbody>\n",
              "    <tr>\n",
              "      <th>0</th>\n",
              "      <td>1147848066</td>\n",
              "      <td>20231122</td>\n",
              "      <td>CHNGOV</td>\n",
              "      <td>CHINA</td>\n",
              "      <td>CHN</td>\n",
              "      <td>GOV</td>\n",
              "      <td>NaN</td>\n",
              "      <td>USAGOV</td>\n",
              "      <td>JOE BIDEN</td>\n",
              "      <td>USA</td>\n",
              "      <td>GOV</td>\n",
              "      <td>GOV</td>\n",
              "      <td>044</td>\n",
              "      <td>044</td>\n",
              "      <td>2.5</td>\n",
              "      <td>2</td>\n",
              "      <td>-1.412429</td>\n",
              "      <td>https://www.firstpost.com/world/china-determin...</td>\n",
              "      <td>CHN-USA</td>\n",
              "    </tr>\n",
              "    <tr>\n",
              "      <th>1</th>\n",
              "      <td>1147848076</td>\n",
              "      <td>20231122</td>\n",
              "      <td>USAGOV</td>\n",
              "      <td>JOE BIDEN</td>\n",
              "      <td>USA</td>\n",
              "      <td>GOV</td>\n",
              "      <td>NaN</td>\n",
              "      <td>CHN</td>\n",
              "      <td>CHINESE</td>\n",
              "      <td>CHN</td>\n",
              "      <td>NaN</td>\n",
              "      <td>NaN</td>\n",
              "      <td>044</td>\n",
              "      <td>044</td>\n",
              "      <td>2.5</td>\n",
              "      <td>2</td>\n",
              "      <td>-1.412429</td>\n",
              "      <td>https://www.firstpost.com/world/china-determin...</td>\n",
              "      <td>USA-CHN</td>\n",
              "    </tr>\n",
              "    <tr>\n",
              "      <th>2</th>\n",
              "      <td>1143689750</td>\n",
              "      <td>20231130</td>\n",
              "      <td>GRDGOVMED</td>\n",
              "      <td>BRIAN MC</td>\n",
              "      <td>GRD</td>\n",
              "      <td>GOV</td>\n",
              "      <td>MED</td>\n",
              "      <td>IRL</td>\n",
              "      <td>IRELAND</td>\n",
              "      <td>IRL</td>\n",
              "      <td>NaN</td>\n",
              "      <td>NaN</td>\n",
              "      <td>1822</td>\n",
              "      <td>182</td>\n",
              "      <td>-9.0</td>\n",
              "      <td>1</td>\n",
              "      <td>-10.288809</td>\n",
              "      <td>https://www.irishtimes.com/crime-law/courts/20...</td>\n",
              "      <td>GRD-IRL</td>\n",
              "    </tr>\n",
              "    <tr>\n",
              "      <th>3</th>\n",
              "      <td>1147667008</td>\n",
              "      <td>20231121</td>\n",
              "      <td>QAT</td>\n",
              "      <td>QATAR</td>\n",
              "      <td>QAT</td>\n",
              "      <td>NaN</td>\n",
              "      <td>NaN</td>\n",
              "      <td>ISR</td>\n",
              "      <td>ISRAEL</td>\n",
              "      <td>ISR</td>\n",
              "      <td>NaN</td>\n",
              "      <td>NaN</td>\n",
              "      <td>045</td>\n",
              "      <td>045</td>\n",
              "      <td>5.0</td>\n",
              "      <td>1</td>\n",
              "      <td>-0.213220</td>\n",
              "      <td>https://www.thejc.com/news/uk/david-cameron-vi...</td>\n",
              "      <td>QAT-ISR</td>\n",
              "    </tr>\n",
              "    <tr>\n",
              "      <th>4</th>\n",
              "      <td>1147744830</td>\n",
              "      <td>20231122</td>\n",
              "      <td>USA</td>\n",
              "      <td>WASHINGTON</td>\n",
              "      <td>USA</td>\n",
              "      <td>NaN</td>\n",
              "      <td>NaN</td>\n",
              "      <td>TURGOV</td>\n",
              "      <td>ISTANBUL</td>\n",
              "      <td>TUR</td>\n",
              "      <td>GOV</td>\n",
              "      <td>GOV</td>\n",
              "      <td>075</td>\n",
              "      <td>075</td>\n",
              "      <td>7.0</td>\n",
              "      <td>6</td>\n",
              "      <td>-3.016591</td>\n",
              "      <td>https://www.nytimes.com/2023/12/21/us/politics...</td>\n",
              "      <td>USA-TUR</td>\n",
              "    </tr>\n",
              "  </tbody>\n",
              "</table>\n",
              "</div>"
            ],
            "text/plain": [
              "   GLOBALEVENTID   SQLDATE Actor1Code  Actor1Name Actor1CountryCode  \\\n",
              "0     1147848066  20231122     CHNGOV       CHINA               CHN   \n",
              "1     1147848076  20231122     USAGOV   JOE BIDEN               USA   \n",
              "2     1143689750  20231130  GRDGOVMED    BRIAN MC               GRD   \n",
              "3     1147667008  20231121        QAT       QATAR               QAT   \n",
              "4     1147744830  20231122        USA  WASHINGTON               USA   \n",
              "\n",
              "  Actor1Type1Code Actor1Type2Code Actor2Code Actor2Name Actor2CountryCode  \\\n",
              "0             GOV             NaN     USAGOV  JOE BIDEN               USA   \n",
              "1             GOV             NaN        CHN    CHINESE               CHN   \n",
              "2             GOV             MED        IRL    IRELAND               IRL   \n",
              "3             NaN             NaN        ISR     ISRAEL               ISR   \n",
              "4             NaN             NaN     TURGOV   ISTANBUL               TUR   \n",
              "\n",
              "  Actor2Type1Code Actor2Type1Code_1 EventCode EventBaseCode  GoldsteinScale  \\\n",
              "0             GOV               GOV       044           044             2.5   \n",
              "1             NaN               NaN       044           044             2.5   \n",
              "2             NaN               NaN      1822           182            -9.0   \n",
              "3             NaN               NaN       045           045             5.0   \n",
              "4             GOV               GOV       075           075             7.0   \n",
              "\n",
              "   NumMentions    AvgTone                                          SOURCEURL  \\\n",
              "0            2  -1.412429  https://www.firstpost.com/world/china-determin...   \n",
              "1            2  -1.412429  https://www.firstpost.com/world/china-determin...   \n",
              "2            1 -10.288809  https://www.irishtimes.com/crime-law/courts/20...   \n",
              "3            1  -0.213220  https://www.thejc.com/news/uk/david-cameron-vi...   \n",
              "4            6  -3.016591  https://www.nytimes.com/2023/12/21/us/politics...   \n",
              "\n",
              "  Actors_pair  \n",
              "0     CHN-USA  \n",
              "1     USA-CHN  \n",
              "2     GRD-IRL  \n",
              "3     QAT-ISR  \n",
              "4     USA-TUR  "
            ]
          },
          "execution_count": 63,
          "metadata": {},
          "output_type": "execute_result"
        }
      ],
      "source": [
        "results.head()"
      ]
    },
    {
      "cell_type": "code",
      "execution_count": 64,
      "metadata": {
        "colab": {
          "base_uri": "https://localhost:8080/"
        },
        "id": "y72WA9eSIgKn",
        "outputId": "4071a95e-036b-45f5-d366-4c9785f842c3"
      },
      "outputs": [
        {
          "name": "stdout",
          "output_type": "stream",
          "text": [
            "Country present in Actor1CountryCode, not in Actor2CountryCode: set()\n",
            "Country present in Actor2CountryCode, not in Actor1CountryCode: {'NAF'}\n"
          ]
        }
      ],
      "source": [
        "print(\n",
        "    \"Country present in Actor1CountryCode, not in Actor2CountryCode: {}\\nCountry present in Actor2CountryCode, not in Actor1CountryCode: {}\".format(\n",
        "        set(results.Actor1CountryCode.value_counts().index.tolist()) - set(results.Actor2CountryCode.value_counts().index.tolist()),\n",
        "        set(results.Actor2CountryCode.value_counts().index.tolist()) - set(results.Actor1CountryCode.value_counts().index.tolist())\n",
        "    ))\n",
        "\n",
        "# \"ROM\" is Romania\n",
        "# \"NAF\" is not a country code, we handle this in a bit"
      ]
    },
    {
      "cell_type": "code",
      "execution_count": 66,
      "metadata": {
        "id": "aYLdOrS2YoON"
      },
      "outputs": [],
      "source": [
        "grouped = results.groupby(\n",
        "    by=[\"Actors_pair\"]\n",
        ")[\"GLOBALEVENTID\"].count().sort_values(ascending=False)"
      ]
    },
    {
      "cell_type": "code",
      "execution_count": 67,
      "metadata": {},
      "outputs": [
        {
          "data": {
            "text/plain": [
              "Actors_pair\n",
              "ISR-PSE    183596\n",
              "PSE-ISR    168282\n",
              "RUS-UKR    104855\n",
              "UKR-RUS     88954\n",
              "USA-ISR     77409\n",
              "            ...  \n",
              "SEA-DNK         1\n",
              "JOR-TKM         1\n",
              "SEA-CRI         1\n",
              "JOR-TGO         1\n",
              "PGS-CZE         1\n",
              "Name: GLOBALEVENTID, Length: 21373, dtype: int64"
            ]
          },
          "execution_count": 67,
          "metadata": {},
          "output_type": "execute_result"
        }
      ],
      "source": [
        "grouped"
      ]
    },
    {
      "cell_type": "code",
      "execution_count": 68,
      "metadata": {
        "colab": {
          "base_uri": "https://localhost:8080/"
        },
        "id": "pDnZ_ShnLNH7",
        "outputId": "1f534f2b-5be8-4e42-e9f6-d1c21066788d"
      },
      "outputs": [
        {
          "name": "stdout",
          "output_type": "stream",
          "text": [
            "Number of all possible unique pairs of countries:\n",
            "\n"
          ]
        },
        {
          "data": {
            "text/plain": [
              "47961"
            ]
          },
          "execution_count": 68,
          "metadata": {},
          "output_type": "execute_result"
        }
      ],
      "source": [
        "print(\"\"\"Number of all possible unique pairs of countries:\n",
        "\"\"\")\n",
        "results.Actor1CountryCode.nunique() * (results.Actor2CountryCode.nunique() - 1)"
      ]
    },
    {
      "cell_type": "code",
      "execution_count": 69,
      "metadata": {
        "colab": {
          "base_uri": "https://localhost:8080/"
        },
        "id": "qsVSSqaLMpte",
        "outputId": "4cc247f8-5d0c-495a-faca-3f2db46946c2"
      },
      "outputs": [
        {
          "name": "stdout",
          "output_type": "stream",
          "text": [
            "Number of pairs actually present in the data:\n",
            "\n"
          ]
        },
        {
          "data": {
            "text/plain": [
              "21373"
            ]
          },
          "execution_count": 69,
          "metadata": {},
          "output_type": "execute_result"
        }
      ],
      "source": [
        "print(\"\"\"Number of pairs actually present in the data:\n",
        "\"\"\")\n",
        "grouped.shape[0]"
      ]
    },
    {
      "cell_type": "code",
      "execution_count": 70,
      "metadata": {
        "id": "zSiFNKjtaXxK"
      },
      "outputs": [],
      "source": [
        "network = pd.DataFrame()\n",
        "network[[\"Actor1CountryCode\", \"Actor2CountryCode\"]] = grouped.reset_index()[\"Actors_pair\"].str.split(\"-\", expand=True)\n",
        "network[\"count\"] = grouped.values\n",
        "network[\"Actors_pair\"] = network.apply(create_pair, axis=1)"
      ]
    },
    {
      "cell_type": "code",
      "execution_count": 71,
      "metadata": {},
      "outputs": [
        {
          "name": "stdout",
          "output_type": "stream",
          "text": [
            "Ratio of rows removed: 0.10\n"
          ]
        }
      ],
      "source": [
        "# remove entries where Actor1CountryCode or Actor2CountryCode is not a country code (e.g. \"EUR\")\n",
        "from helper import clean_countries\n",
        "\n",
        "countries = clean_countries(\n",
        "    set(network[\"Actor1CountryCode\"]).union(network[\"Actor2CountryCode\"])\n",
        "    )\n",
        "\n",
        "old_size = network.shape[0]\n",
        "network = network[np.isin(\n",
        "    network[[\"Actor1CountryCode\", \"Actor2CountryCode\"]], list(countries)\n",
        "    ).all(axis=1)]\n",
        "new_size = network.shape[0]\n",
        "\n",
        "print(f\"Ratio of rows removed: {(old_size - new_size)/old_size:.2f}\")"
      ]
    },
    {
      "cell_type": "code",
      "execution_count": 72,
      "metadata": {
        "id": "_4NrQpuBvDhb"
      },
      "outputs": [],
      "source": [
        "merged = network.groupby(\n",
        "    by=[\"Actors_pair\"]\n",
        ")[\"count\"].sum().sort_values(ascending=False)"
      ]
    },
    {
      "cell_type": "code",
      "execution_count": 73,
      "metadata": {
        "id": "8lIOA7DqSEeB"
      },
      "outputs": [],
      "source": [
        "network_undirected = pd.DataFrame()\n",
        "network_undirected[[\"Source\", \"Target\"]] = merged.reset_index()[\"Actors_pair\"].str.split(\"-\", expand=True)\n",
        "network_undirected[\"count\"], network_undirected[\"Type\"] = merged.values, \"Undirected\"\n",
        "network_undirected[\"Weight\"] = network_undirected[\"count\"].apply(lambda x: x / network_undirected[\"count\"].sum())"
      ]
    },
    {
      "cell_type": "code",
      "execution_count": 74,
      "metadata": {},
      "outputs": [
        {
          "data": {
            "text/html": [
              "<div>\n",
              "<style scoped>\n",
              "    .dataframe tbody tr th:only-of-type {\n",
              "        vertical-align: middle;\n",
              "    }\n",
              "\n",
              "    .dataframe tbody tr th {\n",
              "        vertical-align: top;\n",
              "    }\n",
              "\n",
              "    .dataframe thead th {\n",
              "        text-align: right;\n",
              "    }\n",
              "</style>\n",
              "<table border=\"1\" class=\"dataframe\">\n",
              "  <thead>\n",
              "    <tr style=\"text-align: right;\">\n",
              "      <th></th>\n",
              "      <th>Source</th>\n",
              "      <th>Target</th>\n",
              "      <th>count</th>\n",
              "      <th>Type</th>\n",
              "      <th>Weight</th>\n",
              "    </tr>\n",
              "  </thead>\n",
              "  <tbody>\n",
              "    <tr>\n",
              "      <th>0</th>\n",
              "      <td>ISR</td>\n",
              "      <td>PSE</td>\n",
              "      <td>351878</td>\n",
              "      <td>Undirected</td>\n",
              "      <td>0.093146</td>\n",
              "    </tr>\n",
              "    <tr>\n",
              "      <th>1</th>\n",
              "      <td>RUS</td>\n",
              "      <td>UKR</td>\n",
              "      <td>193809</td>\n",
              "      <td>Undirected</td>\n",
              "      <td>0.051303</td>\n",
              "    </tr>\n",
              "    <tr>\n",
              "      <th>2</th>\n",
              "      <td>ISR</td>\n",
              "      <td>USA</td>\n",
              "      <td>125531</td>\n",
              "      <td>Undirected</td>\n",
              "      <td>0.033229</td>\n",
              "    </tr>\n",
              "    <tr>\n",
              "      <th>3</th>\n",
              "      <td>PSE</td>\n",
              "      <td>USA</td>\n",
              "      <td>63790</td>\n",
              "      <td>Undirected</td>\n",
              "      <td>0.016886</td>\n",
              "    </tr>\n",
              "    <tr>\n",
              "      <th>4</th>\n",
              "      <td>CHN</td>\n",
              "      <td>USA</td>\n",
              "      <td>62453</td>\n",
              "      <td>Undirected</td>\n",
              "      <td>0.016532</td>\n",
              "    </tr>\n",
              "  </tbody>\n",
              "</table>\n",
              "</div>"
            ],
            "text/plain": [
              "  Source Target   count        Type    Weight\n",
              "0    ISR    PSE  351878  Undirected  0.093146\n",
              "1    RUS    UKR  193809  Undirected  0.051303\n",
              "2    ISR    USA  125531  Undirected  0.033229\n",
              "3    PSE    USA   63790  Undirected  0.016886\n",
              "4    CHN    USA   62453  Undirected  0.016532"
            ]
          },
          "execution_count": 74,
          "metadata": {},
          "output_type": "execute_result"
        }
      ],
      "source": [
        "network_undirected.head()"
      ]
    },
    {
      "cell_type": "code",
      "execution_count": 75,
      "metadata": {
        "id": "yqjEkp0XTf0w"
      },
      "outputs": [],
      "source": [
        "# create a unique name for the dataset\n",
        "# which is then used to create a network\n",
        "# network file can be mapped to the data set by job_id and preprocess_number\n",
        "\n",
        "#preprocess_number = \"1\"\n",
        "#network_undirected.to_csv(f\"{job_id}_{preprocess_number}_cooccurence_network.csv\", index=False)"
      ]
    },
    {
      "cell_type": "markdown",
      "metadata": {},
      "source": [
        "# Which events are most frequent?"
      ]
    },
    {
      "cell_type": "code",
      "execution_count": 76,
      "metadata": {},
      "outputs": [
        {
          "name": "stdout",
          "output_type": "stream",
          "text": [
            "Ratio of rows removed: 0.08\n"
          ]
        }
      ],
      "source": [
        "# remove entries where Actor1CountryCode or Actor2CountryCode is not a country code (e.g. \"EUR\")\n",
        "\n",
        "countries = clean_countries(\n",
        "    set(results[\"Actor1CountryCode\"]).union(results[\"Actor2CountryCode\"])\n",
        "    )\n",
        "old_size = results.shape[0]\n",
        "df_countries = results[np.isin(\n",
        "    results[[\"Actor1CountryCode\", \"Actor2CountryCode\"]], list(countries)\n",
        "    ).all(axis=1)]\n",
        "new_size = df_countries.shape[0]\n",
        "\n",
        "print(f\"Ratio of rows removed: {(old_size - new_size)/old_size:.2f}\")"
      ]
    },
    {
      "cell_type": "code",
      "execution_count": 78,
      "metadata": {},
      "outputs": [],
      "source": [
        "def plot_event_shares(time_period, code_meanings=None):\n",
        "\n",
        "    # plot the most frequent types of events in a given time period\n",
        "\n",
        "    df_time_period = df_countries[df_countries[\"SQLDATE\"].astype(\"str\").str.contains(time_period, regex=False)]\n",
        "    data2plot = df_time_period[\"EventCode\"].value_counts(sort=True, normalize=True)[:15]\n",
        "    sns.barplot(data2plot, order=data2plot.index)\n",
        "    plt.title(f\"Most frequent events during {time_period}\")\n",
        "    print(code_meanings)"
      ]
    },
    {
      "cell_type": "code",
      "execution_count": 79,
      "metadata": {},
      "outputs": [
        {
          "name": "stdout",
          "output_type": "stream",
          "text": [
            "\n",
            "    042: Make a visit\n",
            "    043: Host a visit\n",
            "    040: Consult, not specified below\n",
            "    051: Praise or endorse\n",
            "    190: Use conventional military force, not specified below\n",
            "    \n"
          ]
        },
        {
          "data": {
            "image/png": "[encoded data removed]",
            "text/plain": [
              "<Figure size 640x480 with 1 Axes>"
            ]
          },
          "metadata": {},
          "output_type": "display_data"
        }
      ],
      "source": [
        "code_meanings = \"\"\"\n",
        "    042: Make a visit\n",
        "    043: Host a visit\n",
        "    040: Consult, not specified below\n",
        "    051: Praise or endorse\n",
        "    190: Use conventional military force, not specified below\n",
        "    \"\"\"\n",
        "\n",
        "plot_event_shares(time_period=\"202311\", code_meanings=code_meanings)"
      ]
    },
    {
      "cell_type": "code",
      "execution_count": 80,
      "metadata": {},
      "outputs": [
        {
          "name": "stdout",
          "output_type": "stream",
          "text": [
            "\n",
            "    042: Make a visit\n",
            "    043: Host a visit\n",
            "    040: Consult, not specified below\n",
            "    051: Praise or endorse\n",
            "    190: Use conventional military force, not specified below\n",
            "    \n"
          ]
        },
        {
          "data": {
            "image/png": "[encoded data removed]",
            "text/plain": [
              "<Figure size 640x480 with 1 Axes>"
            ]
          },
          "metadata": {},
          "output_type": "display_data"
        }
      ],
      "source": [
        "code_meanings = \"\"\"\n",
        "    042: Make a visit\n",
        "    043: Host a visit\n",
        "    040: Consult, not specified below\n",
        "    051: Praise or endorse\n",
        "    190: Use conventional military force, not specified below\n",
        "    \"\"\"\n",
        "\n",
        "plot_event_shares(time_period=\"202310\", code_meanings=code_meanings)"
      ]
    },
    {
      "cell_type": "markdown",
      "metadata": {},
      "source": [
        "# Spread in tone"
      ]
    },
    {
      "cell_type": "code",
      "execution_count": 81,
      "metadata": {},
      "outputs": [],
      "source": [
        "MEDIA_COUNTRY_MAPPING = pd.read_csv(\"../data/media-country_mapping.TXT\", sep=\"\\t\", names=[\"Media\", \"CountryCodeShort\", \"CountryName\"])\n",
        "COUNTRYCODES = pd.read_csv('../data/countrycodes_extended.csv', skiprows=1, usecols=[0,2], names=[\"CountryName\", \"CountryCode\"])"
      ]
    },
    {
      "cell_type": "code",
      "execution_count": 82,
      "metadata": {},
      "outputs": [],
      "source": [
        "# merge two dataframes and fill in missing values\n",
        "# to map media sources to 3-digit country codes\n",
        "\n",
        "MEDIA_COUNTRY_CODE_MAPPING = MEDIA_COUNTRY_MAPPING.merge(\n",
        "    COUNTRYCODES,\n",
        "    how=\"left\",\n",
        "    on=\"CountryName\"\n",
        ").drop_duplicates()\n",
        "\n",
        "countries_w_empty_codes = dict.fromkeys(\n",
        "    MEDIA_COUNTRY_CODE_MAPPING[MEDIA_COUNTRY_CODE_MAPPING.CountryCode.isna()][\"CountryName\"].value_counts().index.tolist()\n",
        ")\n",
        "\n",
        "# key in COUNTRYCODES.CountryCode if only one option\n",
        "\n",
        "for country_name in countries_w_empty_codes.keys():\n",
        "    filtered = COUNTRYCODES[COUNTRYCODES.CountryName.str.contains(country_name)]\n",
        "    if filtered.shape[0] == 1:\n",
        "        countries_w_empty_codes[country_name] = filtered[\"CountryCode\"].values[0]\n",
        "\n",
        "count = 0\n",
        "still_empty = []\n",
        "for country_name, country_code in countries_w_empty_codes.items():\n",
        "    if country_code == None:\n",
        "        count += 1\n",
        "        still_empty.append(country_name)\n",
        "\n",
        "still_empty_codes = [\n",
        "    \"USA\",\n",
        "    \"TUR\",\n",
        "    \"CZE\",\n",
        "    \"VNM\",\n",
        "    \"KOR\",\n",
        "    \"SVK\",\n",
        "    \"BIH\",\n",
        "    \"LAO\",\n",
        "    \"CIV\",\n",
        "    \"XXK\",\n",
        "    \"VAT\",\n",
        "    \"MAC\",\n",
        "    \"REU\",\n",
        "    \"SWZ\",\n",
        "    \"VIR\",\n",
        "    \"PRK\",\n",
        "    \"CCK\",\n",
        "    \"CPV\",\n",
        "    \"IOT\",\n",
        "    \"TLS\",\n",
        "    \"PCN\",\n",
        "    \"FLK\",\n",
        "    \"ANT\",\n",
        "    \"ATF\",\n",
        "    None\n",
        "]\n",
        "\n",
        "for country_name, country_code in zip(still_empty, still_empty_codes):\n",
        "    countries_w_empty_codes[country_name] = country_code\n",
        "\n",
        "MEDIA_COUNTRY_CODE_MAPPING[\"CountryCode\"] = MEDIA_COUNTRY_CODE_MAPPING[\"CountryCode\"].fillna(\n",
        "    MEDIA_COUNTRY_CODE_MAPPING[\"CountryName\"].map(countries_w_empty_codes)\n",
        ")"
      ]
    },
    {
      "cell_type": "code",
      "execution_count": 83,
      "metadata": {},
      "outputs": [
        {
          "data": {
            "text/html": [
              "<div>\n",
              "<style scoped>\n",
              "    .dataframe tbody tr th:only-of-type {\n",
              "        vertical-align: middle;\n",
              "    }\n",
              "\n",
              "    .dataframe tbody tr th {\n",
              "        vertical-align: top;\n",
              "    }\n",
              "\n",
              "    .dataframe thead th {\n",
              "        text-align: right;\n",
              "    }\n",
              "</style>\n",
              "<table border=\"1\" class=\"dataframe\">\n",
              "  <thead>\n",
              "    <tr style=\"text-align: right;\">\n",
              "      <th></th>\n",
              "      <th>Media</th>\n",
              "      <th>CountryCodeShort</th>\n",
              "      <th>CountryName</th>\n",
              "      <th>CountryCode</th>\n",
              "    </tr>\n",
              "  </thead>\n",
              "  <tbody>\n",
              "    <tr>\n",
              "      <th>0</th>\n",
              "      <td>0-100.it</td>\n",
              "      <td>IT</td>\n",
              "      <td>Italy</td>\n",
              "      <td>ITA</td>\n",
              "    </tr>\n",
              "    <tr>\n",
              "      <th>1</th>\n",
              "      <td>0-50.ru</td>\n",
              "      <td>RS</td>\n",
              "      <td>Russia</td>\n",
              "      <td>RUS</td>\n",
              "    </tr>\n",
              "    <tr>\n",
              "      <th>2</th>\n",
              "      <td>0-60mag.com</td>\n",
              "      <td>US</td>\n",
              "      <td>United States</td>\n",
              "      <td>USA</td>\n",
              "    </tr>\n",
              "    <tr>\n",
              "      <th>3</th>\n",
              "      <td>0-debt.com</td>\n",
              "      <td>US</td>\n",
              "      <td>United States</td>\n",
              "      <td>USA</td>\n",
              "    </tr>\n",
              "    <tr>\n",
              "      <th>4</th>\n",
              "      <td>000fff.org</td>\n",
              "      <td>US</td>\n",
              "      <td>United States</td>\n",
              "      <td>USA</td>\n",
              "    </tr>\n",
              "    <tr>\n",
              "      <th>...</th>\n",
              "      <td>...</td>\n",
              "      <td>...</td>\n",
              "      <td>...</td>\n",
              "      <td>...</td>\n",
              "    </tr>\n",
              "    <tr>\n",
              "      <th>189633</th>\n",
              "      <td>zzp-nederland.nl</td>\n",
              "      <td>NL</td>\n",
              "      <td>Netherlands</td>\n",
              "      <td>NLD</td>\n",
              "    </tr>\n",
              "    <tr>\n",
              "      <th>189634</th>\n",
              "      <td>zzpbarometer.nl</td>\n",
              "      <td>NL</td>\n",
              "      <td>Netherlands</td>\n",
              "      <td>NLD</td>\n",
              "    </tr>\n",
              "    <tr>\n",
              "      <th>189635</th>\n",
              "      <td>zzpn.gov.cn</td>\n",
              "      <td>CH</td>\n",
              "      <td>China</td>\n",
              "      <td>CHN</td>\n",
              "    </tr>\n",
              "    <tr>\n",
              "      <th>189636</th>\n",
              "      <td>zzrednet.cn</td>\n",
              "      <td>CH</td>\n",
              "      <td>China</td>\n",
              "      <td>CHN</td>\n",
              "    </tr>\n",
              "    <tr>\n",
              "      <th>189637</th>\n",
              "      <td>zzzptm.com</td>\n",
              "      <td>US</td>\n",
              "      <td>United States</td>\n",
              "      <td>USA</td>\n",
              "    </tr>\n",
              "  </tbody>\n",
              "</table>\n",
              "<p>189545 rows × 4 columns</p>\n",
              "</div>"
            ],
            "text/plain": [
              "                   Media CountryCodeShort    CountryName CountryCode\n",
              "0               0-100.it               IT          Italy         ITA\n",
              "1                0-50.ru               RS         Russia         RUS\n",
              "2            0-60mag.com               US  United States         USA\n",
              "3             0-debt.com               US  United States         USA\n",
              "4             000fff.org               US  United States         USA\n",
              "...                  ...              ...            ...         ...\n",
              "189633  zzp-nederland.nl               NL    Netherlands         NLD\n",
              "189634   zzpbarometer.nl               NL    Netherlands         NLD\n",
              "189635       zzpn.gov.cn               CH          China         CHN\n",
              "189636       zzrednet.cn               CH          China         CHN\n",
              "189637        zzzptm.com               US  United States         USA\n",
              "\n",
              "[189545 rows x 4 columns]"
            ]
          },
          "execution_count": 83,
          "metadata": {},
          "output_type": "execute_result"
        }
      ],
      "source": [
        "MEDIA_COUNTRY_CODE_MAPPING"
      ]
    },
    {
      "cell_type": "code",
      "execution_count": 84,
      "metadata": {},
      "outputs": [],
      "source": [
        "# TODO: function to remove rows with non-country actors"
      ]
    },
    {
      "cell_type": "code",
      "execution_count": 85,
      "metadata": {},
      "outputs": [],
      "source": [
        "import re\n",
        "\n",
        "def map_media_to_country_origin(df):\n",
        "    \"\"\"\n",
        "    Maps entry of GDELT event table to the country where the media that wrote the article originates from\n",
        "    and adds new column \"CountryOrigin\" to the dataframe.\n",
        "\n",
        "    Details on methodology here: https://blog.gdeltproject.org/mapping-the-media-a-geographic-lookup-of-gdelts-sources/.\n",
        "\n",
        "    :param df: Sample of GDELT event table as a dataframe including \"SOURCEURL\" column\n",
        "    :return: Function performs inplace adding new column to df, see description\n",
        "    \"\"\"\n",
        "\n",
        "    # regex to extract a base URL of the media source\n",
        "    regex = re.compile(\n",
        "    \"(https:\\/\\/www\\.|http:\\/\\/www\\.|https:\\/\\/|http:\\/\\/)?([a-zA-Z0-9\\-\\_]{2,}(\\.[a-zA-Z0-9]{2,})(\\.[a-zA-Z0-9]{2,})?)\"\n",
        "    )\n",
        "    temp = pd.DataFrame()\n",
        "    temp.loc[:, \"Media\"] = df[\"SOURCEURL\"].str.extract(regex).iloc[:, 1]\n",
        "    temp = temp.merge(\n",
        "        MEDIA_COUNTRY_CODE_MAPPING[[\"Media\", \"CountryName\", \"CountryCode\"]],\n",
        "        how=\"left\",\n",
        "        on=\"Media\"\n",
        "    )\n",
        "    df.loc[:, \"CountryOrigin\"] = temp.loc[:, \"CountryCode\"].values\n",
        "    del temp"
      ]
    },
    {
      "cell_type": "code",
      "execution_count": 86,
      "metadata": {},
      "outputs": [
        {
          "name": "stdout",
          "output_type": "stream",
          "text": [
            "How many missing values in \"CountryOrigin\"?\n"
          ]
        },
        {
          "data": {
            "text/plain": [
              "GLOBALEVENTID       0.000\n",
              "SQLDATE             0.000\n",
              "Actor1Code          0.000\n",
              "Actor1Name          0.000\n",
              "Actor1CountryCode   0.000\n",
              "Actor1Type1Code     0.825\n",
              "Actor1Type2Code     0.988\n",
              "Actor2Code          0.000\n",
              "Actor2Name          0.000\n",
              "Actor2CountryCode   0.000\n",
              "Actor2Type1Code     0.843\n",
              "Actor2Type1Code_1   0.843\n",
              "EventCode           0.000\n",
              "EventBaseCode       0.000\n",
              "GoldsteinScale      0.000\n",
              "NumMentions         0.000\n",
              "AvgTone             0.000\n",
              "SOURCEURL           0.000\n",
              "Actors_pair         0.000\n",
              "CountryOrigin       0.129\n",
              "dtype: float64"
            ]
          },
          "execution_count": 86,
          "metadata": {},
          "output_type": "execute_result"
        }
      ],
      "source": [
        "data_tone_spread = df_countries.copy()\n",
        "\n",
        "print(\"How many missing values in \\\"CountryOrigin\\\"?\")\n",
        "\n",
        "# TODO: fix map_media_to_country_origin(df) s.t. it doesn't trigger SettingWithCopyWarning\n",
        "# for now just disabled warning\n",
        "\n",
        "pd.options.mode.chained_assignment = None  # Disable the warning\n",
        "map_media_to_country_origin(data_tone_spread)\n",
        "pd.options.mode.chained_assignment = 'warn'  # Reset to default\n",
        "\n",
        "pd.set_option('display.float_format', lambda x: '%.3f' % x)\n",
        "data_tone_spread.isna().sum() / data_tone_spread.shape[0]"
      ]
    },
    {
      "cell_type": "code",
      "execution_count": 87,
      "metadata": {},
      "outputs": [],
      "source": [
        "countries_of_interest = [\"BRA\", \"RUS\", \"IND\", \"CHN\", \"ZAF\", \"USA\", \"DEU\", \"JPN\"]"
      ]
    },
    {
      "cell_type": "code",
      "execution_count": 88,
      "metadata": {},
      "outputs": [],
      "source": [
        "# TODO: function to plot spread in tone for a given country\n",
        "\n",
        "time_period = \"202310\"\n",
        "country = \"RUS\"\n",
        "\n",
        "# drop missing values\n",
        "data2plot = data_tone_spread.dropna(axis=0, subset=\"CountryOrigin\")\n",
        "\n",
        "# filter by time period and country\n",
        "data2plot = data2plot[\n",
        "    (data2plot[\"SQLDATE\"].astype(\"str\").str.contains(time_period, regex=False)) &\\\n",
        "    (data2plot[\"CountryOrigin\"] == country)\n",
        "]"
      ]
    },
    {
      "cell_type": "code",
      "execution_count": 89,
      "metadata": {},
      "outputs": [],
      "source": [
        "# TODO: figure out if we should handle positive tones cancelling negative tones when averaging\n",
        "# TODO: do we need to add more weight to avg tone of events that have greater count?\n",
        "\n",
        "data2plot = data2plot.groupby(\"EventCode\")[\"AvgTone\"]\\\n",
        "    .agg(['count', 'mean'])\\\n",
        "    .sort_values(by=\"count\", ascending=False)[:15]"
      ]
    },
    {
      "cell_type": "code",
      "execution_count": 90,
      "metadata": {},
      "outputs": [
        {
          "data": {
            "text/plain": [
              "Text(0.5, 1.0, 'Spread in tone: RUS during 202310')"
            ]
          },
          "execution_count": 90,
          "metadata": {},
          "output_type": "execute_result"
        },
        {
          "data": {
            "image/png": "[encoded data removed]",
            "text/plain": [
              "<Figure size 640x480 with 1 Axes>"
            ]
          },
          "metadata": {},
          "output_type": "display_data"
        }
      ],
      "source": [
        "# TODO: do some eventcodes if represented by basecode include other event codes? eg 021 includes 0211 and therefore 021 is more frequent tha 0211\n",
        "code_meanings = \"\"\"\n",
        "    040: Consult, not specified below\n",
        "    010: Make statement, not specified below\n",
        "    020: Make an appeal or request, not specified below\n",
        "    051: Praise or endorse\n",
        "    190: Use conventional military force, not specified below\n",
        "    \"\"\"\n",
        "\n",
        "sns.barplot(\n",
        "    data=data2plot,\n",
        "    x=data2plot.index,\n",
        "    y=\"mean\"\n",
        ")\n",
        "plt.title(f\"Spread in tone: {country} during {time_period}\")"
      ]
    },
    {
      "cell_type": "code",
      "execution_count": 91,
      "metadata": {},
      "outputs": [],
      "source": [
        "# TODO: implement function to compare countries' average tone in most frequent (across all countries) events"
      ]
    },
    {
      "cell_type": "code",
      "execution_count": null,
      "metadata": {},
      "outputs": [],
      "source": []
    },
    {
      "cell_type": "code",
      "execution_count": 1,
      "metadata": {},
      "outputs": [],
      "source": [
        "import pandas as pd\n",
        "from metrics import betweenness, closeness, eigenvector\n",
        "from helper import generate_random_color\n",
        "import matplotlib.pyplot as plt\n",
        "\n",
        "cooc_edges = pd.read_csv('../out/edges/cooccurrences/edges_undirected_dyn_monthly.csv')\n",
        "cooc_nodes = pd.read_csv(\"../out/nodes/cooccurrences/nodes_dyn_monthy.csv\")\n",
        "                 "
      ]
    },
    {
      "cell_type": "code",
      "execution_count": 2,
      "metadata": {},
      "outputs": [
        {
          "data": {
            "text/html": [
              "<div>\n",
              "<style scoped>\n",
              "    .dataframe tbody tr th:only-of-type {\n",
              "        vertical-align: middle;\n",
              "    }\n",
              "\n",
              "    .dataframe tbody tr th {\n",
              "        vertical-align: top;\n",
              "    }\n",
              "\n",
              "    .dataframe thead th {\n",
              "        text-align: right;\n",
              "    }\n",
              "</style>\n",
              "<table border=\"1\" class=\"dataframe\">\n",
              "  <thead>\n",
              "    <tr style=\"text-align: right;\">\n",
              "      <th></th>\n",
              "      <th>ID</th>\n",
              "      <th>Label</th>\n",
              "      <th>Latitude</th>\n",
              "      <th>Longitude</th>\n",
              "    </tr>\n",
              "  </thead>\n",
              "  <tbody>\n",
              "    <tr>\n",
              "      <th>0</th>\n",
              "      <td>AFG</td>\n",
              "      <td>Afghanistan</td>\n",
              "      <td>33.0</td>\n",
              "      <td>65.0</td>\n",
              "    </tr>\n",
              "    <tr>\n",
              "      <th>1</th>\n",
              "      <td>ALB</td>\n",
              "      <td>Albania</td>\n",
              "      <td>41.0</td>\n",
              "      <td>20.0</td>\n",
              "    </tr>\n",
              "    <tr>\n",
              "      <th>2</th>\n",
              "      <td>DZA</td>\n",
              "      <td>Algeria</td>\n",
              "      <td>28.0</td>\n",
              "      <td>3.0</td>\n",
              "    </tr>\n",
              "    <tr>\n",
              "      <th>3</th>\n",
              "      <td>AND</td>\n",
              "      <td>Andorra</td>\n",
              "      <td>42.5</td>\n",
              "      <td>1.6</td>\n",
              "    </tr>\n",
              "    <tr>\n",
              "      <th>4</th>\n",
              "      <td>AGO</td>\n",
              "      <td>Angola</td>\n",
              "      <td>-12.5</td>\n",
              "      <td>18.5</td>\n",
              "    </tr>\n",
              "  </tbody>\n",
              "</table>\n",
              "</div>"
            ],
            "text/plain": [
              "    ID        Label  Latitude  Longitude\n",
              "0  AFG  Afghanistan      33.0       65.0\n",
              "1  ALB      Albania      41.0       20.0\n",
              "2  DZA      Algeria      28.0        3.0\n",
              "3  AND      Andorra      42.5        1.6\n",
              "4  AGO       Angola     -12.5       18.5"
            ]
          },
          "execution_count": 2,
          "metadata": {},
          "output_type": "execute_result"
        }
      ],
      "source": [
        "cooc_nodes.head()"
      ]
    },
    {
      "cell_type": "code",
      "execution_count": 3,
      "metadata": {},
      "outputs": [
        {
          "data": {
            "image/png": "[encoded data removed]",
            "text/plain": [
              "<Figure size 1000x1500 with 1 Axes>"
            ]
          },
          "metadata": {},
          "output_type": "display_data"
        }
      ],
      "source": [
        "from analysis import *\n",
        "\n",
        "betweenness_score_dynamic = create_dynamic_centrality_metric_table(\n",
        "    edges=cooc_edges,\n",
        "    nodes=cooc_nodes,\n",
        "    metric_name=\"BetweennessCentrality\",\n",
        "    metric_func=betweenness\n",
        ")   \n",
        "plot_centrality_over_time(betweenness_score_dynamic,\n",
        "                          plot_top=10,\n",
        "                          ylabel=\"Betweenness Centrality\",\n",
        "                          save_path=\"../out/analysis/temptemp.png\")"
      ]
    },
    {
      "cell_type": "code",
      "execution_count": null,
      "metadata": {},
      "outputs": [],
      "source": []
    }
  ],
  "metadata": {
    "colab": {
      "cell_execution_strategy": "setup",
      "provenance": []
    },
    "kernelspec": {
      "display_name": "Python 3",
      "name": "python3"
    },
    "language_info": {
      "codemirror_mode": {
        "name": "ipython",
        "version": 3
      },
      "file_extension": ".py",
      "mimetype": "text/x-python",
      "name": "python",
      "nbconvert_exporter": "python",
      "pygments_lexer": "ipython3",
      "version": "3.10.13"
    }
  },
  "nbformat": 4,
  "nbformat_minor": 0
}
